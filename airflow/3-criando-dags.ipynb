{
  "cells": [
    {
      "cell_type": "markdown",
      "metadata": {},
      "source": [
        "## Estrutura de uma DAG no Airflow\n",
        "\n",
        "Uma **DAG (Directed Acyclic Graph)** no Airflow define um pipeline de tarefas. É composta por um conjunto de tarefas e as dependências entre elas. A DAG determina a ordem e as condições em que as tarefas devem ser executadas.\n",
        "\n",
        "As principais estruturas de uma DAG incluem:\n",
        "\n",
        "- **`dag_id`**: Um identificador único para a DAG.\n",
        "- **`schedule_interval`**: Define a frequência com que a DAG deve ser executada (diariamente, semanalmente, etc.).\n",
        "- **`default_args`**: Argumentos padrões, como o horário de início, dependências, e se a DAG deve ser retroativa.\n",
        "- **`tasks`**: Tarefas que são executadas dentro da DAG.\n",
        "- **Dependências entre tarefas**: Definem a ordem de execução entre as tarefas.\n",
        "\n",
        "---\n",
        "\n",
        "**Exemplo básico de uma DAG:**\n",
        "\n",
        "1. Definir a DAG e seus argumentos básicos.\n",
        "2. Criar tarefas individuais.\n",
        "3. Definir dependências entre as tarefas.\n"
      ]
    },
    {
      "cell_type": "code",
      "execution_count": null,
      "metadata": {},
      "outputs": [],
      "source": [
        "# Exemplo de DAG simples no Airflow\n",
        "\n",
        "from airflow import DAG\n",
        "from airflow.operators.dummy import DummyOperator\n",
        "from datetime import datetime, timedelta\n",
        "\n",
        "# Definindo os argumentos padrão da DAG\n",
        "default_args = {\n",
        "    'owner': 'maicon',\n",
        "    'depends_on_past': False,\n",
        "    'start_date': datetime(2023, 9, 1),\n",
        "    'email_on_failure': False,\n",
        "    'email_on_retry': False,\n",
        "    'retries': 1,\n",
        "    'retry_delay': timedelta(minutes=5),\n",
        "}\n",
        "\n",
        "# Definindo a DAG\n",
        "with DAG(\n",
        "    dag_id='exemplo_dag',\n",
        "    default_args=default_args,\n",
        "    description='Exemplo de uma DAG simples',\n",
        "    schedule_interval=timedelta(days=1),\n",
        "    catchup=False,  # Não executa execuções passadas\n",
        ") as dag:\n",
        "\n",
        "    # Criando as tarefas\n",
        "    tarefa_inicial = DummyOperator(task_id='inicio')\n",
        "    tarefa_final = DummyOperator(task_id='fim')\n",
        "\n",
        "    # Definindo as dependências\n",
        "    tarefa_inicial >> tarefa_final  # 'inicio' deve rodar antes de 'fim'\n"
      ]
    }
  ],
  "metadata": {
    "colab": {
      "provenance": [],
      "toc_visible": true
    },
    "kernelspec": {
      "display_name": "Python 3",
      "name": "python3"
    },
    "language_info": {
      "codemirror_mode": {
        "name": "ipython",
        "version": 3
      },
      "file_extension": ".py",
      "mimetype": "text/x-python",
      "name": "python",
      "nbconvert_exporter": "python",
      "pygments_lexer": "ipython3",
      "version": "3.12.5"
    }
  },
  "nbformat": 4,
  "nbformat_minor": 0
}
