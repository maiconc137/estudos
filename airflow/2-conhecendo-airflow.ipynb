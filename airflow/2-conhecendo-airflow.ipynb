{
  "cells": [
    {
      "cell_type": "markdown",
      "metadata": {
        "id": "nCaxlTwkfrQC"
      },
      "source": [
        "# Conhecendo a UI\n",
        "A UI do Airflow é fundamental para acompanhar a execução de DAGs (Directed Acyclic Graphs) e monitorar suas tarefas. Ela oferece diversas funcionalidades:"
      ]
    },
    {
      "cell_type": "markdown",
      "metadata": {},
      "source": [
        "1. DAGs View:\n",
        "Nessa visão, você pode ver uma lista de todas as DAGs disponíveis no Airflow.\n",
        "Cada DAG tem informações básicas como a data da última execução, duração, estado, etc.\n",
        "Você pode pausar, ativar, ou forçar a execução de um DAG.\n",
        "2. Graph View:\n",
        "Ao clicar em um DAG, você pode ver o grafo das tarefas no DAG.\n",
        "Essa visualização mostra como as tarefas estão interconectadas e ajuda a entender a sequência de execução.\n",
        "3. Tree View:\n",
        "Mostra uma visão hierárquica das execuções das tarefas de um DAG ao longo do tempo.\n",
        "Facilita o acompanhamento do histórico e status de cada tarefa em diferentes execuções.\n",
        "4. Gantt Chart:\n",
        "Um gráfico de Gantt ajuda a visualizar a duração de cada tarefa e entender o tempo gasto em cada uma.\n",
        "Útil para identificar gargalos de desempenho.\n",
        "5. Task Instance Details:\n",
        "Você pode inspecionar detalhes específicos de uma execução de tarefa.\n",
        "A partir dessa visão, você consegue acessar logs de execução, reiniciar tarefas, entre outras ações.\n",
        "6. Code View:\n",
        "Mostra o código Python que define o DAG. Isso facilita a revisão ou o compartilhamento do código para entender a lógica por trás da DAG.\n",
        "7. Logs:\n",
        "Logs detalhados de cada tarefa executada são acessíveis na UI, facilitando o diagnóstico e resolução de problemas."
      ]
    },
    {
      "cell_type": "markdown",
      "metadata": {},
      "source": [
        "# Grid, Graph, Calendar"
      ]
    },
    {
      "cell_type": "markdown",
      "metadata": {},
      "source": [
        "1. Grid View:\n",
        "A Grid View é uma das principais visões para monitorar o progresso das execuções das tarefas de um DAG ao longo do tempo.\n",
        "Ela apresenta um grid onde cada célula representa uma execução de uma tarefa em uma data específica. As colunas correspondem às tarefas, e as linhas representam diferentes execuções do DAG.\n",
        "Cores ajudam a identificar o estado da tarefa (por exemplo, sucesso, falha, etc.).\n",
        "Você pode facilmente navegar pelas execuções e ver rapidamente se há falhas ou execuções demoradas.\n",
        "2. Graph View:\n",
        "A Graph View mostra a estrutura do DAG em forma de grafo, onde cada tarefa é representada por um nó, e as setas indicam a sequência de execução.\n",
        "Ela ajuda a visualizar a dependência entre as tarefas e entender a ordem em que serão executadas.\n",
        "Se você modificar as dependências entre as tarefas no código, essa visualização reflete as alterações imediatamente.\n",
        "3. Calendar View:\n",
        "A Calendar View oferece uma visualização de calendário que mostra quando as DAGs foram executadas.\n",
        "Cada dia no calendário apresenta informações sobre se o DAG foi executado com sucesso, falhou, ou está pendente de execução.\n",
        "É uma boa maneira de verificar se as DAGs estão sendo executadas conforme o agendamento ou se há dias em que ocorreram falhas."
      ]
    },
    {
      "cell_type": "markdown",
      "metadata": {},
      "source": [
        "# Outros modos\n",
        "Além das visualizações principais como Grid, Graph e Calendar, a interface do Apache Airflow oferece outros modos de visualização que ajudam no gerenciamento e monitoramento dos DAGs e"
      ]
    },
    {
      "cell_type": "markdown",
      "metadata": {},
      "source": [
        "1. Tree View:\n",
        "A Tree View mostra a hierarquia das execuções de um DAG de forma que cada tarefa seja apresentada como um nó em uma árvore.\n",
        "Cada linha da árvore corresponde a uma execução do DAG, e as colunas indicam o status de cada tarefa.\n",
        "Assim como na Grid View, as cores são usadas para identificar rapidamente o status de cada tarefa (sucesso, falha, etc.).\n",
        "A diferença é que aqui a hierarquia das tarefas é visível, o que facilita o entendimento da relação de dependências.\n",
        "2. Gantt Chart:\n",
        "O Gantt Chart mostra a duração das tarefas de um DAG ao longo do tempo.\n",
        "Cada linha do gráfico representa uma tarefa, e as barras mostram o tempo de início e término de cada execução.\n",
        "Essa visualização é útil para identificar gargalos e otimizar a execução das tarefas que estão levando mais tempo que o esperado.\n",
        "3. Task Duration:\n",
        "A visualização de Task Duration mostra a duração de cada tarefa ao longo das execuções do DAG.\n",
        "Um gráfico é gerado mostrando a duração de cada tarefa em diferentes execuções, ajudando a monitorar se o tempo de execução está estável ou variando muito.\n",
        "Isso pode ser usado para identificar possíveis ineficiências ou falhas nas execuções.\n",
        "4. Landing Times:\n",
        "A Landing Times View exibe o tempo de início real das execuções de um DAG em comparação com o tempo programado.\n",
        "Isso ajuda a verificar se o DAG está iniciando suas execuções no horário esperado ou se está ocorrendo algum atraso.\n",
        "Útil para entender a pontualidade das execuções."
      ]
    }
  ],
  "metadata": {
    "colab": {
      "provenance": [],
      "toc_visible": true
    },
    "kernelspec": {
      "display_name": "Python 3",
      "name": "python3"
    },
    "language_info": {
      "name": "python"
    }
  },
  "nbformat": 4,
  "nbformat_minor": 0
}
